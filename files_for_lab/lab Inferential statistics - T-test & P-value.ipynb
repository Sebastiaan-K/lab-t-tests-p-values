{
 "cells": [
  {
   "cell_type": "markdown",
   "id": "48876666",
   "metadata": {},
   "source": [
    "# one-tailed t-test"
   ]
  },
  {
   "cell_type": "code",
   "execution_count": 8,
   "id": "d0126411",
   "metadata": {},
   "outputs": [
    {
     "data": {
      "text/plain": [
       "(42.14, 43.230000000000004, -3.3972307061176026, 0.0016055712503872579)"
      ]
     },
     "execution_count": 8,
     "metadata": {},
     "output_type": "execute_result"
    }
   ],
   "source": [
    "from scipy import stats\n",
    "import numpy as np\n",
    "\n",
    "new_machine = [42.1, 41, 41.3, 41.8, 42.4, 42.8, 43.2, 42.3, 41.8, 42.7]\n",
    "old_machine = [42.7, 43.6, 43.8, 43.3, 42.5, 43.5, 43.1, 41.7, 44, 44.1]\n",
    "\n",
    "t_stat, p_value_two_tailed = stats.ttest_ind(new_machine, old_machine)\n",
    "p_value_one_tailed = p_value_two_tailed / 2\n",
    "\n",
    "mean_new_machine = np.mean(new_machine)\n",
    "mean_old_machine = np.mean(old_machine)\n",
    "\n",
    "(mean_new_machine, mean_old_machine, t_stat, p_value_one_tailed)\n",
    "\n"
   ]
  },
  {
   "cell_type": "markdown",
   "id": "4bc3579d",
   "metadata": {},
   "source": [
    "Null hypothesis: The new machine does not pack faster than the old machine. Since the p-value is less than 0.05. We reject the null hypothesis and conclude that the new machine is faster on average than the old machine."
   ]
  },
  {
   "cell_type": "markdown",
   "id": "e71fe7f7",
   "metadata": {},
   "source": [
    "# Matched Pairs Test"
   ]
  },
  {
   "cell_type": "code",
   "execution_count": 11,
   "id": "32e1af46",
   "metadata": {},
   "outputs": [
    {
     "name": "stdout",
     "output_type": "stream",
     "text": [
      "   #                   Name Type 1  Type 2  Total  HP  Attack  Defense  \\\n",
      "0  1              Bulbasaur  Grass  Poison    318  45      49       49   \n",
      "1  2                Ivysaur  Grass  Poison    405  60      62       63   \n",
      "2  3               Venusaur  Grass  Poison    525  80      82       83   \n",
      "3  3  VenusaurMega Venusaur  Grass  Poison    625  80     100      123   \n",
      "4  4             Charmander   Fire     NaN    309  39      52       43   \n",
      "\n",
      "   Sp. Atk  Sp. Def  Speed  Generation  Legendary  \n",
      "0       65       65     45           1      False  \n",
      "1       80       80     60           1      False  \n",
      "2      100      100     80           1      False  \n",
      "3      122      120     80           1      False  \n",
      "4       60       50     65           1      False  \n",
      "t-statistic: 4.325566393330478, p-value: 1.7140303479358558e-05\n"
     ]
    }
   ],
   "source": [
    "import pandas as pd\n",
    "from scipy import stats\n",
    "\n",
    "\n",
    "pokemon_df = pd.read_csv('pokemon.csv')\n",
    "\n",
    "print(pokemon_df.head())\n",
    "\n",
    "t_stat, p_value = stats.ttest_rel(pokemon_df['Attack'], pokemon_df['Defense'])\n",
    "\n",
    "print(f\"t-statistic: {t_stat}, p-value: {p_value}\")\n",
    "\n",
    "\n"
   ]
  },
  {
   "cell_type": "markdown",
   "id": "e245ac02",
   "metadata": {},
   "source": [
    "The p-value is much smaller than our significance level of 0.05, we reject the null hypothesis. This means there is a statistically significant difference between the Pokémon's defense and attack scores in the dataset provided."
   ]
  },
  {
   "cell_type": "markdown",
   "id": "2ddb210c",
   "metadata": {},
   "source": [
    "# ANOVA"
   ]
  },
  {
   "cell_type": "markdown",
   "id": "10664bb1",
   "metadata": {},
   "source": [
    "State the null hypothesis: There is no effect of the power level of the plasma beam on the etching rate, meaning the mean etching rates are equal across all levels of power.\n",
    "\n",
    "\n",
    "State the alternate hypothesis: There is an effect of the power level on the etching rate, meaning at least one group's mean etching rate is different from the others.\n",
    "\n",
    "\n",
    "What is the significance level: This is typically set at 0.05 for most scientific studies unless there is a reason to choose a different level."
   ]
  },
  {
   "cell_type": "code",
   "execution_count": 14,
   "id": "bc805f7a",
   "metadata": {},
   "outputs": [
    {
     "name": "stdout",
     "output_type": "stream",
     "text": [
      "F-value: 36.87895470100505, P-value: 7.506584272358903e-06\n"
     ]
    }
   ],
   "source": [
    "import pandas as pd\n",
    "import scipy.stats as stats\n",
    "\n",
    "\n",
    "data_path = 'anova_lab_data.xlsx'\n",
    "anova_df = pd.read_excel(data_path)\n",
    "\n",
    "anova_df.columns = anova_df.columns.str.strip()\n",
    "\n",
    "f_value, p_value = stats.f_oneway(*[anova_df['Etching Rate'][anova_df['Power'] == level] for level in anova_df['Power'].unique()])\n",
    "\n",
    "print(f\"F-value: {f_value}, P-value: {p_value}\")\n",
    "\n"
   ]
  },
  {
   "cell_type": "markdown",
   "id": "90e73b1b",
   "metadata": {},
   "source": [
    "Since the p-value is much less than the common significance level of 0.05, we can reject the null hypothesis."
   ]
  },
  {
   "cell_type": "markdown",
   "id": "36c258c6",
   "metadata": {},
   "source": [
    "The conclusion from this experiment is that the power of the plasma beam does indeed have an effect on the etching rate.​"
   ]
  },
  {
   "cell_type": "code",
   "execution_count": null,
   "id": "810b9e66",
   "metadata": {},
   "outputs": [],
   "source": []
  }
 ],
 "metadata": {
  "kernelspec": {
   "display_name": "Python 3 (ipykernel)",
   "language": "python",
   "name": "python3"
  },
  "language_info": {
   "codemirror_mode": {
    "name": "ipython",
    "version": 3
   },
   "file_extension": ".py",
   "mimetype": "text/x-python",
   "name": "python",
   "nbconvert_exporter": "python",
   "pygments_lexer": "ipython3",
   "version": "3.11.5"
  },
  "toc": {
   "base_numbering": 1,
   "nav_menu": {},
   "number_sections": true,
   "sideBar": true,
   "skip_h1_title": false,
   "title_cell": "Table of Contents",
   "title_sidebar": "Contents",
   "toc_cell": false,
   "toc_position": {},
   "toc_section_display": true,
   "toc_window_display": false
  }
 },
 "nbformat": 4,
 "nbformat_minor": 5
}
